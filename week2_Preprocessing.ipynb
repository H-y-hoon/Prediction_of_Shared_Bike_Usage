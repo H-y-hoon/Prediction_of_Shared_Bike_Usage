{
  "nbformat": 4,
  "nbformat_minor": 0,
  "metadata": {
    "colab": {
      "provenance": [],
      "authorship_tag": "ABX9TyOR1XZTyyBc2WcSQ69HnwxB",
      "include_colab_link": true
    },
    "kernelspec": {
      "name": "python3",
      "display_name": "Python 3"
    },
    "language_info": {
      "name": "python"
    }
  },
  "cells": [
    {
      "cell_type": "markdown",
      "metadata": {
        "id": "view-in-github",
        "colab_type": "text"
      },
      "source": [
        "<a href=\"https://colab.research.google.com/github/H-y-hoon/Prediction_of_Shared_Bike_Usage/blob/main/week2_Preprocessing.ipynb\" target=\"_parent\"><img src=\"https://colab.research.google.com/assets/colab-badge.svg\" alt=\"Open In Colab\"/></a>"
      ]
    },
    {
      "cell_type": "markdown",
      "source": [
        "#**PREPROCESSING⭐**\n",
        "- 전처리란 데이터 분석을 수행하기 전에 데이터를 정리, 변환, 조작, 정제하는 과정을 말합니다. 이러한 과정은 데이터 분석의 품질과 성능에 큰 영향을 미칩니다.\n",
        "\n",
        "- 흔히들 분석 결과의 90%는 전처리에서 결정된다. 혹은 모델의 성능은 전처리를 얼마나 잘했는지에 결정된다 라고 합니다.\n",
        "\n",
        "###**METHODE**\n",
        "\n",
        "- **결측치 처리**: 결측치는 데이터에서 누락된 값입니다. 이러한 값들은 분석에 방해가 되므로 이를 처리해주어야 합니다. 이를 위해 결측치를 삭제하거나 대체하는 방법을 사용할 수 있습니다.\n",
        "\n",
        "- **이상치 처리**: 이상치는 일반적인 값 범위를 벗어난 값을 의미합니다. 이러한 값들은 분석에 영향을 미치므로 이를 처리해주어야 합니다. 이를 위해 이상치를 삭제하거나 대체하는 방법을 사용할 수 있습니다.\n",
        "\n",
        "- **데이터 정규화**: 데이터 정규화는 데이터를 일정한 범위나 척도로 변환하는 과정입니다. 이를 통해 다양한 단위로 측정된 변수들 간의 비교가 가능해집니다.\n",
        "\n",
        "- **데이터 인코딩**: 범주형 데이터를 수치형 데이터로 변환하는 과정입니다. 이를 위해 One-Hot Encoding, Label Encoding 등의 방법을 사용할 수 있습니다.\n",
        "\n",
        "- **특징 선택 및 추출**: 분석에 필요한 특징을 선택하고, 이를 추출하는 과정입니다. 이를 통해 분석의 정확성과 성능을 향상시킬 수 있습니다."
      ],
      "metadata": {
        "id": "65-NrWJN1du9"
      }
    },
    {
      "cell_type": "code",
      "execution_count": null,
      "metadata": {
        "id": "ifvyNH7RrZoi",
        "colab": {
          "base_uri": "https://localhost:8080/"
        },
        "outputId": "ae9947f5-dcf9-4ba7-b644-b7119005871a"
      },
      "outputs": [
        {
          "output_type": "stream",
          "name": "stdout",
          "text": [
            "Mounted at /content/drive\n"
          ]
        }
      ],
      "source": [
        "#구글 드라이브와 mount(연결)\n",
        "from google.colab import drive\n",
        "drive.mount('/content/drive')"
      ]
    },
    {
      "cell_type": "code",
      "source": [
        "#library load\n",
        "\n",
        "import pandas as pd\n",
        "import numpy as np"
      ],
      "metadata": {
        "id": "bXR4pgBYpzDU"
      },
      "execution_count": null,
      "outputs": []
    },
    {
      "cell_type": "code",
      "source": [
        "#Data load\n",
        "\n",
        "train = pd.read_csv('/content/drive/MyDrive/2023_따릉이/자료/train.csv')\n",
        "test = pd.read_csv('/content/drive/MyDrive/2023_따릉이/자료/test.csv')"
      ],
      "metadata": {
        "id": "N7rPPhImjfci"
      },
      "execution_count": null,
      "outputs": []
    },
    {
      "cell_type": "markdown",
      "source": [
        "**1. bicycle_train.csv : 학습 데이터**\n",
        "\n",
        "date_time : 일별 날짜\n",
        "\n",
        "wind_direction: 풍향 (degree)\n",
        "\n",
        "sky_condition : 하늘 상태 (하단 설명 참조)\n",
        "\n",
        "precipitation_form : 강수 형태 (하단 설명 참조)\n",
        "\n",
        "wind_speed : 풍속 (m/s)\n",
        "\n",
        "humidity : 습도 (%)\n",
        "\n",
        "low_temp : 최저 기온 ( `C)\n",
        "\n",
        "high_temp : 최고 기온 ( `C)\n",
        "\n",
        "Precipitation_Probability : 강수 확률 (%)\n",
        "\n",
        "number_of_rentals : 따릉이 대여량"
      ],
      "metadata": {
        "id": "LkOeIDnRCEfR"
      }
    },
    {
      "cell_type": "code",
      "source": [
        "#상위 데이터 확인\n",
        "train.head()"
      ],
      "metadata": {
        "colab": {
          "base_uri": "https://localhost:8080/",
          "height": 206
        },
        "id": "FmgQLxDs3GfQ",
        "outputId": "56a5d7bc-dd98-4e00-a3cd-91feed989818"
      },
      "execution_count": null,
      "outputs": [
        {
          "output_type": "execute_result",
          "data": {
            "text/plain": [
              "    date_time  wind_direction  sky_condition  precipitation_form  wind_speed  \\\n",
              "0  2018-04-01         207.500          4.000               0.000       3.050   \n",
              "1  2018-04-02         208.317          2.950               0.000       3.278   \n",
              "2  2018-04-03         213.516          2.911               0.000       2.690   \n",
              "3  2018-04-04         143.836          3.692               0.425       3.138   \n",
              "4  2018-04-05          95.905          4.000               0.723       3.186   \n",
              "\n",
              "   humidity  low_temp  high_temp  Precipitation_Probability  number_of_rentals  \n",
              "0    75.000    12.600     21.000                     30.000              22994  \n",
              "1    69.833    12.812     19.000                     19.500              28139  \n",
              "2    74.879    10.312     15.316                     19.113              26817  \n",
              "3    71.849     8.312     12.368                     43.493              26034  \n",
              "4    73.784     5.875     10.421                     63.378               2833  "
            ],
            "text/html": [
              "\n",
              "  <div id=\"df-e7a192ad-bb94-44fb-a09f-88af4937028e\">\n",
              "    <div class=\"colab-df-container\">\n",
              "      <div>\n",
              "<style scoped>\n",
              "    .dataframe tbody tr th:only-of-type {\n",
              "        vertical-align: middle;\n",
              "    }\n",
              "\n",
              "    .dataframe tbody tr th {\n",
              "        vertical-align: top;\n",
              "    }\n",
              "\n",
              "    .dataframe thead th {\n",
              "        text-align: right;\n",
              "    }\n",
              "</style>\n",
              "<table border=\"1\" class=\"dataframe\">\n",
              "  <thead>\n",
              "    <tr style=\"text-align: right;\">\n",
              "      <th></th>\n",
              "      <th>date_time</th>\n",
              "      <th>wind_direction</th>\n",
              "      <th>sky_condition</th>\n",
              "      <th>precipitation_form</th>\n",
              "      <th>wind_speed</th>\n",
              "      <th>humidity</th>\n",
              "      <th>low_temp</th>\n",
              "      <th>high_temp</th>\n",
              "      <th>Precipitation_Probability</th>\n",
              "      <th>number_of_rentals</th>\n",
              "    </tr>\n",
              "  </thead>\n",
              "  <tbody>\n",
              "    <tr>\n",
              "      <th>0</th>\n",
              "      <td>2018-04-01</td>\n",
              "      <td>207.500</td>\n",
              "      <td>4.000</td>\n",
              "      <td>0.000</td>\n",
              "      <td>3.050</td>\n",
              "      <td>75.000</td>\n",
              "      <td>12.600</td>\n",
              "      <td>21.000</td>\n",
              "      <td>30.000</td>\n",
              "      <td>22994</td>\n",
              "    </tr>\n",
              "    <tr>\n",
              "      <th>1</th>\n",
              "      <td>2018-04-02</td>\n",
              "      <td>208.317</td>\n",
              "      <td>2.950</td>\n",
              "      <td>0.000</td>\n",
              "      <td>3.278</td>\n",
              "      <td>69.833</td>\n",
              "      <td>12.812</td>\n",
              "      <td>19.000</td>\n",
              "      <td>19.500</td>\n",
              "      <td>28139</td>\n",
              "    </tr>\n",
              "    <tr>\n",
              "      <th>2</th>\n",
              "      <td>2018-04-03</td>\n",
              "      <td>213.516</td>\n",
              "      <td>2.911</td>\n",
              "      <td>0.000</td>\n",
              "      <td>2.690</td>\n",
              "      <td>74.879</td>\n",
              "      <td>10.312</td>\n",
              "      <td>15.316</td>\n",
              "      <td>19.113</td>\n",
              "      <td>26817</td>\n",
              "    </tr>\n",
              "    <tr>\n",
              "      <th>3</th>\n",
              "      <td>2018-04-04</td>\n",
              "      <td>143.836</td>\n",
              "      <td>3.692</td>\n",
              "      <td>0.425</td>\n",
              "      <td>3.138</td>\n",
              "      <td>71.849</td>\n",
              "      <td>8.312</td>\n",
              "      <td>12.368</td>\n",
              "      <td>43.493</td>\n",
              "      <td>26034</td>\n",
              "    </tr>\n",
              "    <tr>\n",
              "      <th>4</th>\n",
              "      <td>2018-04-05</td>\n",
              "      <td>95.905</td>\n",
              "      <td>4.000</td>\n",
              "      <td>0.723</td>\n",
              "      <td>3.186</td>\n",
              "      <td>73.784</td>\n",
              "      <td>5.875</td>\n",
              "      <td>10.421</td>\n",
              "      <td>63.378</td>\n",
              "      <td>2833</td>\n",
              "    </tr>\n",
              "  </tbody>\n",
              "</table>\n",
              "</div>\n",
              "      <button class=\"colab-df-convert\" onclick=\"convertToInteractive('df-e7a192ad-bb94-44fb-a09f-88af4937028e')\"\n",
              "              title=\"Convert this dataframe to an interactive table.\"\n",
              "              style=\"display:none;\">\n",
              "        \n",
              "  <svg xmlns=\"http://www.w3.org/2000/svg\" height=\"24px\"viewBox=\"0 0 24 24\"\n",
              "       width=\"24px\">\n",
              "    <path d=\"M0 0h24v24H0V0z\" fill=\"none\"/>\n",
              "    <path d=\"M18.56 5.44l.94 2.06.94-2.06 2.06-.94-2.06-.94-.94-2.06-.94 2.06-2.06.94zm-11 1L8.5 8.5l.94-2.06 2.06-.94-2.06-.94L8.5 2.5l-.94 2.06-2.06.94zm10 10l.94 2.06.94-2.06 2.06-.94-2.06-.94-.94-2.06-.94 2.06-2.06.94z\"/><path d=\"M17.41 7.96l-1.37-1.37c-.4-.4-.92-.59-1.43-.59-.52 0-1.04.2-1.43.59L10.3 9.45l-7.72 7.72c-.78.78-.78 2.05 0 2.83L4 21.41c.39.39.9.59 1.41.59.51 0 1.02-.2 1.41-.59l7.78-7.78 2.81-2.81c.8-.78.8-2.07 0-2.86zM5.41 20L4 18.59l7.72-7.72 1.47 1.35L5.41 20z\"/>\n",
              "  </svg>\n",
              "      </button>\n",
              "      \n",
              "  <style>\n",
              "    .colab-df-container {\n",
              "      display:flex;\n",
              "      flex-wrap:wrap;\n",
              "      gap: 12px;\n",
              "    }\n",
              "\n",
              "    .colab-df-convert {\n",
              "      background-color: #E8F0FE;\n",
              "      border: none;\n",
              "      border-radius: 50%;\n",
              "      cursor: pointer;\n",
              "      display: none;\n",
              "      fill: #1967D2;\n",
              "      height: 32px;\n",
              "      padding: 0 0 0 0;\n",
              "      width: 32px;\n",
              "    }\n",
              "\n",
              "    .colab-df-convert:hover {\n",
              "      background-color: #E2EBFA;\n",
              "      box-shadow: 0px 1px 2px rgba(60, 64, 67, 0.3), 0px 1px 3px 1px rgba(60, 64, 67, 0.15);\n",
              "      fill: #174EA6;\n",
              "    }\n",
              "\n",
              "    [theme=dark] .colab-df-convert {\n",
              "      background-color: #3B4455;\n",
              "      fill: #D2E3FC;\n",
              "    }\n",
              "\n",
              "    [theme=dark] .colab-df-convert:hover {\n",
              "      background-color: #434B5C;\n",
              "      box-shadow: 0px 1px 3px 1px rgba(0, 0, 0, 0.15);\n",
              "      filter: drop-shadow(0px 1px 2px rgba(0, 0, 0, 0.3));\n",
              "      fill: #FFFFFF;\n",
              "    }\n",
              "  </style>\n",
              "\n",
              "      <script>\n",
              "        const buttonEl =\n",
              "          document.querySelector('#df-e7a192ad-bb94-44fb-a09f-88af4937028e button.colab-df-convert');\n",
              "        buttonEl.style.display =\n",
              "          google.colab.kernel.accessAllowed ? 'block' : 'none';\n",
              "\n",
              "        async function convertToInteractive(key) {\n",
              "          const element = document.querySelector('#df-e7a192ad-bb94-44fb-a09f-88af4937028e');\n",
              "          const dataTable =\n",
              "            await google.colab.kernel.invokeFunction('convertToInteractive',\n",
              "                                                     [key], {});\n",
              "          if (!dataTable) return;\n",
              "\n",
              "          const docLinkHtml = 'Like what you see? Visit the ' +\n",
              "            '<a target=\"_blank\" href=https://colab.research.google.com/notebooks/data_table.ipynb>data table notebook</a>'\n",
              "            + ' to learn more about interactive tables.';\n",
              "          element.innerHTML = '';\n",
              "          dataTable['output_type'] = 'display_data';\n",
              "          await google.colab.output.renderOutput(dataTable, element);\n",
              "          const docLink = document.createElement('div');\n",
              "          docLink.innerHTML = docLinkHtml;\n",
              "          element.appendChild(docLink);\n",
              "        }\n",
              "      </script>\n",
              "    </div>\n",
              "  </div>\n",
              "  "
            ]
          },
          "metadata": {},
          "execution_count": 37
        }
      ]
    },
    {
      "cell_type": "code",
      "source": [
        "#train 크기 확인\n",
        "train.shape"
      ],
      "metadata": {
        "colab": {
          "base_uri": "https://localhost:8080/"
        },
        "id": "faC2foed-E2I",
        "outputId": "558d9813-98ae-49bb-d5ab-48a22d6e7ee5"
      },
      "execution_count": null,
      "outputs": [
        {
          "output_type": "execute_result",
          "data": {
            "text/plain": [
              "(273, 10)"
            ]
          },
          "metadata": {},
          "execution_count": 38
        }
      ]
    },
    {
      "cell_type": "code",
      "source": [
        "#train의 전체적인 정보 확인\n",
        "train.info()"
      ],
      "metadata": {
        "colab": {
          "base_uri": "https://localhost:8080/"
        },
        "id": "tdcUUKF1-A-c",
        "outputId": "c1d74a46-0d83-4230-913d-969c3aa02766"
      },
      "execution_count": null,
      "outputs": [
        {
          "output_type": "stream",
          "name": "stdout",
          "text": [
            "<class 'pandas.core.frame.DataFrame'>\n",
            "RangeIndex: 273 entries, 0 to 272\n",
            "Data columns (total 10 columns):\n",
            " #   Column                     Non-Null Count  Dtype  \n",
            "---  ------                     --------------  -----  \n",
            " 0   date_time                  273 non-null    object \n",
            " 1   wind_direction             273 non-null    float64\n",
            " 2   sky_condition              273 non-null    float64\n",
            " 3   precipitation_form         273 non-null    float64\n",
            " 4   wind_speed                 273 non-null    float64\n",
            " 5   humidity                   273 non-null    float64\n",
            " 6   low_temp                   273 non-null    float64\n",
            " 7   high_temp                  273 non-null    float64\n",
            " 8   Precipitation_Probability  273 non-null    float64\n",
            " 9   number_of_rentals          273 non-null    int64  \n",
            "dtypes: float64(8), int64(1), object(1)\n",
            "memory usage: 21.5+ KB\n"
          ]
        }
      ]
    },
    {
      "cell_type": "code",
      "source": [
        "#특정 컬럼만 info 사용\n",
        "train['date_time'].info()"
      ],
      "metadata": {
        "id": "yg2Cdm_y-OVv",
        "colab": {
          "base_uri": "https://localhost:8080/"
        },
        "outputId": "c35594e8-1032-4396-9d57-f6c425841762"
      },
      "execution_count": null,
      "outputs": [
        {
          "output_type": "stream",
          "name": "stdout",
          "text": [
            "<class 'pandas.core.series.Series'>\n",
            "RangeIndex: 273 entries, 0 to 272\n",
            "Series name: date_time\n",
            "Non-Null Count  Dtype \n",
            "--------------  ----- \n",
            "273 non-null    object\n",
            "dtypes: object(1)\n",
            "memory usage: 2.3+ KB\n"
          ]
        }
      ]
    },
    {
      "cell_type": "code",
      "source": [
        "train['number_of_rentals'].info()"
      ],
      "metadata": {
        "colab": {
          "base_uri": "https://localhost:8080/"
        },
        "id": "hPc_zNQ-d5yS",
        "outputId": "f2794c5b-be58-4292-a0d5-06fbd15736dd"
      },
      "execution_count": null,
      "outputs": [
        {
          "output_type": "stream",
          "name": "stdout",
          "text": [
            "<class 'pandas.core.series.Series'>\n",
            "RangeIndex: 273 entries, 0 to 272\n",
            "Series name: number_of_rentals\n",
            "Non-Null Count  Dtype\n",
            "--------------  -----\n",
            "273 non-null    int64\n",
            "dtypes: int64(1)\n",
            "memory usage: 2.3 KB\n"
          ]
        }
      ]
    },
    {
      "cell_type": "code",
      "source": [
        "#기술통계량 확인\n",
        "train.describe().T"
      ],
      "metadata": {
        "colab": {
          "base_uri": "https://localhost:8080/",
          "height": 331
        },
        "id": "ihPuBElI-GiH",
        "outputId": "4ae34f1b-d3d3-42c5-b9b3-7a7bafdbb669"
      },
      "execution_count": null,
      "outputs": [
        {
          "output_type": "execute_result",
          "data": {
            "text/plain": [
              "                           count          mean           std       min  \\\n",
              "wind_direction             273.0    202.750967     56.659232    57.047   \n",
              "sky_condition              273.0      2.288256      0.961775     1.000   \n",
              "precipitation_form         273.0      0.100963      0.203193     0.000   \n",
              "wind_speed                 273.0      2.480963      0.884397     0.753   \n",
              "humidity                   273.0     56.745491     12.351268    24.831   \n",
              "low_temp                   273.0     13.795249      5.107711     1.938   \n",
              "high_temp                  273.0     23.384733      5.204605     9.895   \n",
              "Precipitation_Probability  273.0     16.878103     16.643772     0.000   \n",
              "number_of_rentals          273.0  59574.978022  27659.575774  1037.000   \n",
              "\n",
              "                                 25%        50%        75%         max  \n",
              "wind_direction               171.541    209.774    238.412     321.622  \n",
              "sky_condition                  1.405      2.167      3.000       4.000  \n",
              "precipitation_form             0.000      0.000      0.088       1.000  \n",
              "wind_speed                     1.820      2.411      2.924       5.607  \n",
              "humidity                      47.196     55.845     66.419      88.885  \n",
              "low_temp                       9.938     14.375     18.000      22.312  \n",
              "high_temp                     19.842     24.158     27.526      33.421  \n",
              "Precipitation_Probability      4.054     12.162     22.973      82.162  \n",
              "number_of_rentals          36761.000  63032.000  81515.000  110377.000  "
            ],
            "text/html": [
              "\n",
              "  <div id=\"df-3b94e0df-2c1a-447d-b692-174780a4dd21\">\n",
              "    <div class=\"colab-df-container\">\n",
              "      <div>\n",
              "<style scoped>\n",
              "    .dataframe tbody tr th:only-of-type {\n",
              "        vertical-align: middle;\n",
              "    }\n",
              "\n",
              "    .dataframe tbody tr th {\n",
              "        vertical-align: top;\n",
              "    }\n",
              "\n",
              "    .dataframe thead th {\n",
              "        text-align: right;\n",
              "    }\n",
              "</style>\n",
              "<table border=\"1\" class=\"dataframe\">\n",
              "  <thead>\n",
              "    <tr style=\"text-align: right;\">\n",
              "      <th></th>\n",
              "      <th>count</th>\n",
              "      <th>mean</th>\n",
              "      <th>std</th>\n",
              "      <th>min</th>\n",
              "      <th>25%</th>\n",
              "      <th>50%</th>\n",
              "      <th>75%</th>\n",
              "      <th>max</th>\n",
              "    </tr>\n",
              "  </thead>\n",
              "  <tbody>\n",
              "    <tr>\n",
              "      <th>wind_direction</th>\n",
              "      <td>273.0</td>\n",
              "      <td>202.750967</td>\n",
              "      <td>56.659232</td>\n",
              "      <td>57.047</td>\n",
              "      <td>171.541</td>\n",
              "      <td>209.774</td>\n",
              "      <td>238.412</td>\n",
              "      <td>321.622</td>\n",
              "    </tr>\n",
              "    <tr>\n",
              "      <th>sky_condition</th>\n",
              "      <td>273.0</td>\n",
              "      <td>2.288256</td>\n",
              "      <td>0.961775</td>\n",
              "      <td>1.000</td>\n",
              "      <td>1.405</td>\n",
              "      <td>2.167</td>\n",
              "      <td>3.000</td>\n",
              "      <td>4.000</td>\n",
              "    </tr>\n",
              "    <tr>\n",
              "      <th>precipitation_form</th>\n",
              "      <td>273.0</td>\n",
              "      <td>0.100963</td>\n",
              "      <td>0.203193</td>\n",
              "      <td>0.000</td>\n",
              "      <td>0.000</td>\n",
              "      <td>0.000</td>\n",
              "      <td>0.088</td>\n",
              "      <td>1.000</td>\n",
              "    </tr>\n",
              "    <tr>\n",
              "      <th>wind_speed</th>\n",
              "      <td>273.0</td>\n",
              "      <td>2.480963</td>\n",
              "      <td>0.884397</td>\n",
              "      <td>0.753</td>\n",
              "      <td>1.820</td>\n",
              "      <td>2.411</td>\n",
              "      <td>2.924</td>\n",
              "      <td>5.607</td>\n",
              "    </tr>\n",
              "    <tr>\n",
              "      <th>humidity</th>\n",
              "      <td>273.0</td>\n",
              "      <td>56.745491</td>\n",
              "      <td>12.351268</td>\n",
              "      <td>24.831</td>\n",
              "      <td>47.196</td>\n",
              "      <td>55.845</td>\n",
              "      <td>66.419</td>\n",
              "      <td>88.885</td>\n",
              "    </tr>\n",
              "    <tr>\n",
              "      <th>low_temp</th>\n",
              "      <td>273.0</td>\n",
              "      <td>13.795249</td>\n",
              "      <td>5.107711</td>\n",
              "      <td>1.938</td>\n",
              "      <td>9.938</td>\n",
              "      <td>14.375</td>\n",
              "      <td>18.000</td>\n",
              "      <td>22.312</td>\n",
              "    </tr>\n",
              "    <tr>\n",
              "      <th>high_temp</th>\n",
              "      <td>273.0</td>\n",
              "      <td>23.384733</td>\n",
              "      <td>5.204605</td>\n",
              "      <td>9.895</td>\n",
              "      <td>19.842</td>\n",
              "      <td>24.158</td>\n",
              "      <td>27.526</td>\n",
              "      <td>33.421</td>\n",
              "    </tr>\n",
              "    <tr>\n",
              "      <th>Precipitation_Probability</th>\n",
              "      <td>273.0</td>\n",
              "      <td>16.878103</td>\n",
              "      <td>16.643772</td>\n",
              "      <td>0.000</td>\n",
              "      <td>4.054</td>\n",
              "      <td>12.162</td>\n",
              "      <td>22.973</td>\n",
              "      <td>82.162</td>\n",
              "    </tr>\n",
              "    <tr>\n",
              "      <th>number_of_rentals</th>\n",
              "      <td>273.0</td>\n",
              "      <td>59574.978022</td>\n",
              "      <td>27659.575774</td>\n",
              "      <td>1037.000</td>\n",
              "      <td>36761.000</td>\n",
              "      <td>63032.000</td>\n",
              "      <td>81515.000</td>\n",
              "      <td>110377.000</td>\n",
              "    </tr>\n",
              "  </tbody>\n",
              "</table>\n",
              "</div>\n",
              "      <button class=\"colab-df-convert\" onclick=\"convertToInteractive('df-3b94e0df-2c1a-447d-b692-174780a4dd21')\"\n",
              "              title=\"Convert this dataframe to an interactive table.\"\n",
              "              style=\"display:none;\">\n",
              "        \n",
              "  <svg xmlns=\"http://www.w3.org/2000/svg\" height=\"24px\"viewBox=\"0 0 24 24\"\n",
              "       width=\"24px\">\n",
              "    <path d=\"M0 0h24v24H0V0z\" fill=\"none\"/>\n",
              "    <path d=\"M18.56 5.44l.94 2.06.94-2.06 2.06-.94-2.06-.94-.94-2.06-.94 2.06-2.06.94zm-11 1L8.5 8.5l.94-2.06 2.06-.94-2.06-.94L8.5 2.5l-.94 2.06-2.06.94zm10 10l.94 2.06.94-2.06 2.06-.94-2.06-.94-.94-2.06-.94 2.06-2.06.94z\"/><path d=\"M17.41 7.96l-1.37-1.37c-.4-.4-.92-.59-1.43-.59-.52 0-1.04.2-1.43.59L10.3 9.45l-7.72 7.72c-.78.78-.78 2.05 0 2.83L4 21.41c.39.39.9.59 1.41.59.51 0 1.02-.2 1.41-.59l7.78-7.78 2.81-2.81c.8-.78.8-2.07 0-2.86zM5.41 20L4 18.59l7.72-7.72 1.47 1.35L5.41 20z\"/>\n",
              "  </svg>\n",
              "      </button>\n",
              "      \n",
              "  <style>\n",
              "    .colab-df-container {\n",
              "      display:flex;\n",
              "      flex-wrap:wrap;\n",
              "      gap: 12px;\n",
              "    }\n",
              "\n",
              "    .colab-df-convert {\n",
              "      background-color: #E8F0FE;\n",
              "      border: none;\n",
              "      border-radius: 50%;\n",
              "      cursor: pointer;\n",
              "      display: none;\n",
              "      fill: #1967D2;\n",
              "      height: 32px;\n",
              "      padding: 0 0 0 0;\n",
              "      width: 32px;\n",
              "    }\n",
              "\n",
              "    .colab-df-convert:hover {\n",
              "      background-color: #E2EBFA;\n",
              "      box-shadow: 0px 1px 2px rgba(60, 64, 67, 0.3), 0px 1px 3px 1px rgba(60, 64, 67, 0.15);\n",
              "      fill: #174EA6;\n",
              "    }\n",
              "\n",
              "    [theme=dark] .colab-df-convert {\n",
              "      background-color: #3B4455;\n",
              "      fill: #D2E3FC;\n",
              "    }\n",
              "\n",
              "    [theme=dark] .colab-df-convert:hover {\n",
              "      background-color: #434B5C;\n",
              "      box-shadow: 0px 1px 3px 1px rgba(0, 0, 0, 0.15);\n",
              "      filter: drop-shadow(0px 1px 2px rgba(0, 0, 0, 0.3));\n",
              "      fill: #FFFFFF;\n",
              "    }\n",
              "  </style>\n",
              "\n",
              "      <script>\n",
              "        const buttonEl =\n",
              "          document.querySelector('#df-3b94e0df-2c1a-447d-b692-174780a4dd21 button.colab-df-convert');\n",
              "        buttonEl.style.display =\n",
              "          google.colab.kernel.accessAllowed ? 'block' : 'none';\n",
              "\n",
              "        async function convertToInteractive(key) {\n",
              "          const element = document.querySelector('#df-3b94e0df-2c1a-447d-b692-174780a4dd21');\n",
              "          const dataTable =\n",
              "            await google.colab.kernel.invokeFunction('convertToInteractive',\n",
              "                                                     [key], {});\n",
              "          if (!dataTable) return;\n",
              "\n",
              "          const docLinkHtml = 'Like what you see? Visit the ' +\n",
              "            '<a target=\"_blank\" href=https://colab.research.google.com/notebooks/data_table.ipynb>data table notebook</a>'\n",
              "            + ' to learn more about interactive tables.';\n",
              "          element.innerHTML = '';\n",
              "          dataTable['output_type'] = 'display_data';\n",
              "          await google.colab.output.renderOutput(dataTable, element);\n",
              "          const docLink = document.createElement('div');\n",
              "          docLink.innerHTML = docLinkHtml;\n",
              "          element.appendChild(docLink);\n",
              "        }\n",
              "      </script>\n",
              "    </div>\n",
              "  </div>\n",
              "  "
            ]
          },
          "metadata": {},
          "execution_count": 43
        }
      ]
    },
    {
      "cell_type": "code",
      "source": [
        "train.head(10)"
      ],
      "metadata": {
        "colab": {
          "base_uri": "https://localhost:8080/",
          "height": 363
        },
        "id": "Mk74Bjw3e86C",
        "outputId": "2ae880d3-7158-4e50-af26-87f14862ee6b"
      },
      "execution_count": null,
      "outputs": [
        {
          "output_type": "execute_result",
          "data": {
            "text/plain": [
              "    date_time  wind_direction  sky_condition  precipitation_form  wind_speed  \\\n",
              "0  2018-04-01         207.500          4.000               0.000       3.050   \n",
              "1  2018-04-02         208.317          2.950               0.000       3.278   \n",
              "2  2018-04-03         213.516          2.911               0.000       2.690   \n",
              "3  2018-04-04         143.836          3.692               0.425       3.138   \n",
              "4  2018-04-05          95.905          4.000               0.723       3.186   \n",
              "5  2018-04-06         256.412          3.466               0.358       3.734   \n",
              "6  2018-04-07         288.858          1.912               0.000       4.824   \n",
              "7  2018-04-08         200.939          2.405               0.054       3.865   \n",
              "8  2018-04-09         165.196          2.000               0.000       2.412   \n",
              "9  2018-04-10         171.541          2.919               0.088       5.607   \n",
              "\n",
              "   humidity  low_temp  high_temp  Precipitation_Probability  number_of_rentals  \n",
              "0    75.000    12.600     21.000                     30.000              22994  \n",
              "1    69.833    12.812     19.000                     19.500              28139  \n",
              "2    74.879    10.312     15.316                     19.113              26817  \n",
              "3    71.849     8.312     12.368                     43.493              26034  \n",
              "4    73.784     5.875     10.421                     63.378               2833  \n",
              "5    68.885     2.500      9.895                     40.068              13297  \n",
              "6    45.541     1.938     10.947                      9.122              13088  \n",
              "7    53.243     4.312     14.211                     15.676               7758  \n",
              "8    55.473     8.188     17.474                     10.000              23925  \n",
              "9    54.054     8.375     18.474                     21.824              20423  "
            ],
            "text/html": [
              "\n",
              "  <div id=\"df-7e8b139a-6ba1-4659-b5b1-b45a13719874\">\n",
              "    <div class=\"colab-df-container\">\n",
              "      <div>\n",
              "<style scoped>\n",
              "    .dataframe tbody tr th:only-of-type {\n",
              "        vertical-align: middle;\n",
              "    }\n",
              "\n",
              "    .dataframe tbody tr th {\n",
              "        vertical-align: top;\n",
              "    }\n",
              "\n",
              "    .dataframe thead th {\n",
              "        text-align: right;\n",
              "    }\n",
              "</style>\n",
              "<table border=\"1\" class=\"dataframe\">\n",
              "  <thead>\n",
              "    <tr style=\"text-align: right;\">\n",
              "      <th></th>\n",
              "      <th>date_time</th>\n",
              "      <th>wind_direction</th>\n",
              "      <th>sky_condition</th>\n",
              "      <th>precipitation_form</th>\n",
              "      <th>wind_speed</th>\n",
              "      <th>humidity</th>\n",
              "      <th>low_temp</th>\n",
              "      <th>high_temp</th>\n",
              "      <th>Precipitation_Probability</th>\n",
              "      <th>number_of_rentals</th>\n",
              "    </tr>\n",
              "  </thead>\n",
              "  <tbody>\n",
              "    <tr>\n",
              "      <th>0</th>\n",
              "      <td>2018-04-01</td>\n",
              "      <td>207.500</td>\n",
              "      <td>4.000</td>\n",
              "      <td>0.000</td>\n",
              "      <td>3.050</td>\n",
              "      <td>75.000</td>\n",
              "      <td>12.600</td>\n",
              "      <td>21.000</td>\n",
              "      <td>30.000</td>\n",
              "      <td>22994</td>\n",
              "    </tr>\n",
              "    <tr>\n",
              "      <th>1</th>\n",
              "      <td>2018-04-02</td>\n",
              "      <td>208.317</td>\n",
              "      <td>2.950</td>\n",
              "      <td>0.000</td>\n",
              "      <td>3.278</td>\n",
              "      <td>69.833</td>\n",
              "      <td>12.812</td>\n",
              "      <td>19.000</td>\n",
              "      <td>19.500</td>\n",
              "      <td>28139</td>\n",
              "    </tr>\n",
              "    <tr>\n",
              "      <th>2</th>\n",
              "      <td>2018-04-03</td>\n",
              "      <td>213.516</td>\n",
              "      <td>2.911</td>\n",
              "      <td>0.000</td>\n",
              "      <td>2.690</td>\n",
              "      <td>74.879</td>\n",
              "      <td>10.312</td>\n",
              "      <td>15.316</td>\n",
              "      <td>19.113</td>\n",
              "      <td>26817</td>\n",
              "    </tr>\n",
              "    <tr>\n",
              "      <th>3</th>\n",
              "      <td>2018-04-04</td>\n",
              "      <td>143.836</td>\n",
              "      <td>3.692</td>\n",
              "      <td>0.425</td>\n",
              "      <td>3.138</td>\n",
              "      <td>71.849</td>\n",
              "      <td>8.312</td>\n",
              "      <td>12.368</td>\n",
              "      <td>43.493</td>\n",
              "      <td>26034</td>\n",
              "    </tr>\n",
              "    <tr>\n",
              "      <th>4</th>\n",
              "      <td>2018-04-05</td>\n",
              "      <td>95.905</td>\n",
              "      <td>4.000</td>\n",
              "      <td>0.723</td>\n",
              "      <td>3.186</td>\n",
              "      <td>73.784</td>\n",
              "      <td>5.875</td>\n",
              "      <td>10.421</td>\n",
              "      <td>63.378</td>\n",
              "      <td>2833</td>\n",
              "    </tr>\n",
              "    <tr>\n",
              "      <th>5</th>\n",
              "      <td>2018-04-06</td>\n",
              "      <td>256.412</td>\n",
              "      <td>3.466</td>\n",
              "      <td>0.358</td>\n",
              "      <td>3.734</td>\n",
              "      <td>68.885</td>\n",
              "      <td>2.500</td>\n",
              "      <td>9.895</td>\n",
              "      <td>40.068</td>\n",
              "      <td>13297</td>\n",
              "    </tr>\n",
              "    <tr>\n",
              "      <th>6</th>\n",
              "      <td>2018-04-07</td>\n",
              "      <td>288.858</td>\n",
              "      <td>1.912</td>\n",
              "      <td>0.000</td>\n",
              "      <td>4.824</td>\n",
              "      <td>45.541</td>\n",
              "      <td>1.938</td>\n",
              "      <td>10.947</td>\n",
              "      <td>9.122</td>\n",
              "      <td>13088</td>\n",
              "    </tr>\n",
              "    <tr>\n",
              "      <th>7</th>\n",
              "      <td>2018-04-08</td>\n",
              "      <td>200.939</td>\n",
              "      <td>2.405</td>\n",
              "      <td>0.054</td>\n",
              "      <td>3.865</td>\n",
              "      <td>53.243</td>\n",
              "      <td>4.312</td>\n",
              "      <td>14.211</td>\n",
              "      <td>15.676</td>\n",
              "      <td>7758</td>\n",
              "    </tr>\n",
              "    <tr>\n",
              "      <th>8</th>\n",
              "      <td>2018-04-09</td>\n",
              "      <td>165.196</td>\n",
              "      <td>2.000</td>\n",
              "      <td>0.000</td>\n",
              "      <td>2.412</td>\n",
              "      <td>55.473</td>\n",
              "      <td>8.188</td>\n",
              "      <td>17.474</td>\n",
              "      <td>10.000</td>\n",
              "      <td>23925</td>\n",
              "    </tr>\n",
              "    <tr>\n",
              "      <th>9</th>\n",
              "      <td>2018-04-10</td>\n",
              "      <td>171.541</td>\n",
              "      <td>2.919</td>\n",
              "      <td>0.088</td>\n",
              "      <td>5.607</td>\n",
              "      <td>54.054</td>\n",
              "      <td>8.375</td>\n",
              "      <td>18.474</td>\n",
              "      <td>21.824</td>\n",
              "      <td>20423</td>\n",
              "    </tr>\n",
              "  </tbody>\n",
              "</table>\n",
              "</div>\n",
              "      <button class=\"colab-df-convert\" onclick=\"convertToInteractive('df-7e8b139a-6ba1-4659-b5b1-b45a13719874')\"\n",
              "              title=\"Convert this dataframe to an interactive table.\"\n",
              "              style=\"display:none;\">\n",
              "        \n",
              "  <svg xmlns=\"http://www.w3.org/2000/svg\" height=\"24px\"viewBox=\"0 0 24 24\"\n",
              "       width=\"24px\">\n",
              "    <path d=\"M0 0h24v24H0V0z\" fill=\"none\"/>\n",
              "    <path d=\"M18.56 5.44l.94 2.06.94-2.06 2.06-.94-2.06-.94-.94-2.06-.94 2.06-2.06.94zm-11 1L8.5 8.5l.94-2.06 2.06-.94-2.06-.94L8.5 2.5l-.94 2.06-2.06.94zm10 10l.94 2.06.94-2.06 2.06-.94-2.06-.94-.94-2.06-.94 2.06-2.06.94z\"/><path d=\"M17.41 7.96l-1.37-1.37c-.4-.4-.92-.59-1.43-.59-.52 0-1.04.2-1.43.59L10.3 9.45l-7.72 7.72c-.78.78-.78 2.05 0 2.83L4 21.41c.39.39.9.59 1.41.59.51 0 1.02-.2 1.41-.59l7.78-7.78 2.81-2.81c.8-.78.8-2.07 0-2.86zM5.41 20L4 18.59l7.72-7.72 1.47 1.35L5.41 20z\"/>\n",
              "  </svg>\n",
              "      </button>\n",
              "      \n",
              "  <style>\n",
              "    .colab-df-container {\n",
              "      display:flex;\n",
              "      flex-wrap:wrap;\n",
              "      gap: 12px;\n",
              "    }\n",
              "\n",
              "    .colab-df-convert {\n",
              "      background-color: #E8F0FE;\n",
              "      border: none;\n",
              "      border-radius: 50%;\n",
              "      cursor: pointer;\n",
              "      display: none;\n",
              "      fill: #1967D2;\n",
              "      height: 32px;\n",
              "      padding: 0 0 0 0;\n",
              "      width: 32px;\n",
              "    }\n",
              "\n",
              "    .colab-df-convert:hover {\n",
              "      background-color: #E2EBFA;\n",
              "      box-shadow: 0px 1px 2px rgba(60, 64, 67, 0.3), 0px 1px 3px 1px rgba(60, 64, 67, 0.15);\n",
              "      fill: #174EA6;\n",
              "    }\n",
              "\n",
              "    [theme=dark] .colab-df-convert {\n",
              "      background-color: #3B4455;\n",
              "      fill: #D2E3FC;\n",
              "    }\n",
              "\n",
              "    [theme=dark] .colab-df-convert:hover {\n",
              "      background-color: #434B5C;\n",
              "      box-shadow: 0px 1px 3px 1px rgba(0, 0, 0, 0.15);\n",
              "      filter: drop-shadow(0px 1px 2px rgba(0, 0, 0, 0.3));\n",
              "      fill: #FFFFFF;\n",
              "    }\n",
              "  </style>\n",
              "\n",
              "      <script>\n",
              "        const buttonEl =\n",
              "          document.querySelector('#df-7e8b139a-6ba1-4659-b5b1-b45a13719874 button.colab-df-convert');\n",
              "        buttonEl.style.display =\n",
              "          google.colab.kernel.accessAllowed ? 'block' : 'none';\n",
              "\n",
              "        async function convertToInteractive(key) {\n",
              "          const element = document.querySelector('#df-7e8b139a-6ba1-4659-b5b1-b45a13719874');\n",
              "          const dataTable =\n",
              "            await google.colab.kernel.invokeFunction('convertToInteractive',\n",
              "                                                     [key], {});\n",
              "          if (!dataTable) return;\n",
              "\n",
              "          const docLinkHtml = 'Like what you see? Visit the ' +\n",
              "            '<a target=\"_blank\" href=https://colab.research.google.com/notebooks/data_table.ipynb>data table notebook</a>'\n",
              "            + ' to learn more about interactive tables.';\n",
              "          element.innerHTML = '';\n",
              "          dataTable['output_type'] = 'display_data';\n",
              "          await google.colab.output.renderOutput(dataTable, element);\n",
              "          const docLink = document.createElement('div');\n",
              "          docLink.innerHTML = docLinkHtml;\n",
              "          element.appendChild(docLink);\n",
              "        }\n",
              "      </script>\n",
              "    </div>\n",
              "  </div>\n",
              "  "
            ]
          },
          "metadata": {},
          "execution_count": 46
        }
      ]
    },
    {
      "cell_type": "code",
      "source": [
        "#object타입 컬럼의 describe 사용\n",
        "#count -> 데이터의 갯수 | unique -> 고유값\n",
        "#     top -> 최빈값     | freq -> 최빈값의 빈도\n",
        "\n",
        "train['date_time'].describe(include='O')"
      ],
      "metadata": {
        "colab": {
          "base_uri": "https://localhost:8080/"
        },
        "id": "Ow1tmztp3r6i",
        "outputId": "83f9c605-7934-44a4-f763-a5e7f636e941"
      },
      "execution_count": null,
      "outputs": [
        {
          "output_type": "execute_result",
          "data": {
            "text/plain": [
              "count            273\n",
              "unique           273\n",
              "top       2018-04-01\n",
              "freq               1\n",
              "Name: date_time, dtype: object"
            ]
          },
          "metadata": {},
          "execution_count": 44
        }
      ]
    },
    {
      "cell_type": "code",
      "source": [
        "#결측치 확인\n",
        "\n",
        "train.isna().sum()"
      ],
      "metadata": {
        "colab": {
          "base_uri": "https://localhost:8080/"
        },
        "id": "D7nR1aKT-JtP",
        "outputId": "6338347d-7a3f-4dfb-fa81-b2a22538d5e9"
      },
      "execution_count": null,
      "outputs": [
        {
          "output_type": "execute_result",
          "data": {
            "text/plain": [
              "date_time                    0\n",
              "wind_direction               0\n",
              "sky_condition                0\n",
              "precipitation_form           0\n",
              "wind_speed                   0\n",
              "humidity                     0\n",
              "low_temp                     0\n",
              "high_temp                    0\n",
              "Precipitation_Probability    0\n",
              "number_of_rentals            0\n",
              "dtype: int64"
            ]
          },
          "metadata": {},
          "execution_count": 47
        }
      ]
    },
    {
      "cell_type": "markdown",
      "source": [
        "##**Date time Data Preprocessing**\n",
        "문자(텍스트) 데이터로 전처리를 해주어야 분석에 사용할 수 있다.\n",
        "\n",
        "지금부턴 텍스트 데이터로 전처리 하는 과정을 살펴보자!"
      ],
      "metadata": {
        "id": "x20lZaZHEEWM"
      }
    },
    {
      "cell_type": "code",
      "source": [
        "#date_time 컬럼만 출력\n",
        "train['date_time']"
      ],
      "metadata": {
        "colab": {
          "base_uri": "https://localhost:8080/"
        },
        "id": "HkDLCbf8EDMx",
        "outputId": "b02b480c-0f45-4085-be85-afb1368a464f"
      },
      "execution_count": null,
      "outputs": [
        {
          "output_type": "execute_result",
          "data": {
            "text/plain": [
              "0      2018-04-01\n",
              "1      2018-04-02\n",
              "2      2018-04-03\n",
              "3      2018-04-04\n",
              "4      2018-04-05\n",
              "          ...    \n",
              "268    2020-06-26\n",
              "269    2020-06-27\n",
              "270    2020-06-28\n",
              "271    2020-06-29\n",
              "272    2020-06-30\n",
              "Name: date_time, Length: 273, dtype: object"
            ]
          },
          "metadata": {},
          "execution_count": 48
        }
      ]
    },
    {
      "cell_type": "markdown",
      "source": [
        "날짜 컬럼을 출력해보았더니 YYYY-MM-DD 의 형태로 이루어져있는 것을 확인!\n",
        "\n",
        "첫번째 값만 추출해서 **-** 을 기준으로 쪼개보자"
      ],
      "metadata": {
        "id": "VN4cau01FHvA"
      }
    },
    {
      "cell_type": "code",
      "source": [
        "#split\n",
        "\n",
        "train['date_time'][0].split('-')"
      ],
      "metadata": {
        "colab": {
          "base_uri": "https://localhost:8080/"
        },
        "id": "IKocVv21FBC_",
        "outputId": "a45a6367-74c3-4d20-b408-a7090a1bf4e1"
      },
      "execution_count": null,
      "outputs": [
        {
          "output_type": "execute_result",
          "data": {
            "text/plain": [
              "['2018', '04', '01']"
            ]
          },
          "metadata": {},
          "execution_count": 49
        }
      ]
    },
    {
      "cell_type": "code",
      "source": [
        "train['date_time'].apply(lambda x : x.split('-'))"
      ],
      "metadata": {
        "colab": {
          "base_uri": "https://localhost:8080/"
        },
        "id": "Y0grOSOSGi53",
        "outputId": "a286c59a-2a40-4da7-dc78-f58ceb571e46"
      },
      "execution_count": null,
      "outputs": [
        {
          "output_type": "execute_result",
          "data": {
            "text/plain": [
              "0      [2018, 04, 01]\n",
              "1      [2018, 04, 02]\n",
              "2      [2018, 04, 03]\n",
              "3      [2018, 04, 04]\n",
              "4      [2018, 04, 05]\n",
              "            ...      \n",
              "268    [2020, 06, 26]\n",
              "269    [2020, 06, 27]\n",
              "270    [2020, 06, 28]\n",
              "271    [2020, 06, 29]\n",
              "272    [2020, 06, 30]\n",
              "Name: date_time, Length: 273, dtype: object"
            ]
          },
          "metadata": {},
          "execution_count": 16
        }
      ]
    },
    {
      "cell_type": "code",
      "source": [
        "train['date_time'].apply(lambda x : x.split('-')[0])\n",
        "\n",
        "# data time의 컬럼 값을 년 월 일 등의 개별요소 분리하는 작업"
      ],
      "metadata": {
        "colab": {
          "base_uri": "https://localhost:8080/"
        },
        "id": "ixYK5xaNGn5P",
        "outputId": "709ed55d-11b1-4b3b-c59e-6090e73a8990"
      },
      "execution_count": null,
      "outputs": [
        {
          "output_type": "execute_result",
          "data": {
            "text/plain": [
              "0      2018\n",
              "1      2018\n",
              "2      2018\n",
              "3      2018\n",
              "4      2018\n",
              "       ... \n",
              "268    2020\n",
              "269    2020\n",
              "270    2020\n",
              "271    2020\n",
              "272    2020\n",
              "Name: date_time, Length: 273, dtype: object"
            ]
          },
          "metadata": {},
          "execution_count": 50
        }
      ]
    },
    {
      "cell_type": "markdown",
      "source": [
        "분리된 년/월/일 데이터에서 0번째만 추출해보았더니 \n",
        "\n",
        "'년' 열만 출력이 되는걸 확인!\n",
        "\n",
        "그럼 apply 함수를 이용해서 연/월/일 이라는 새로운 컬럼을 생성하겠습니다."
      ],
      "metadata": {
        "id": "z-FyHOtuGvpY"
      }
    },
    {
      "cell_type": "code",
      "source": [
        "train['year'] = train['date_time'].apply(lambda x : x.split('-')[0]) #년\n",
        "train['month'] = train['date_time'].apply(lambda x : x.split('-')[1]) #월\n",
        "train['day'] = train['date_time'].apply(lambda x : x.split('-')[2]) #일\n",
        "\n",
        "# 혹은 \n",
        "#train['year'] = train['date_time'].map(lambda x : x.split('-')[0]) #년\n",
        "#train['month'] = train['date_time'].map(lambda x : x.split('-')[1]) #월\n",
        "#train['day'] = train['date_time'].map(lambda x : x.split('-')[2]) #일"
      ],
      "metadata": {
        "id": "fBHLYMudGpOk"
      },
      "execution_count": null,
      "outputs": []
    },
    {
      "cell_type": "code",
      "source": [
        "train.head()"
      ],
      "metadata": {
        "colab": {
          "base_uri": "https://localhost:8080/",
          "height": 206
        },
        "id": "4OzrFNm9Gsv7",
        "outputId": "6b7a668c-6280-4d8d-a45e-68bed44e26b4"
      },
      "execution_count": null,
      "outputs": [
        {
          "output_type": "execute_result",
          "data": {
            "text/plain": [
              "    date_time  wind_direction  sky_condition  precipitation_form  wind_speed  \\\n",
              "0  2018-04-01         207.500          4.000               0.000       3.050   \n",
              "1  2018-04-02         208.317          2.950               0.000       3.278   \n",
              "2  2018-04-03         213.516          2.911               0.000       2.690   \n",
              "3  2018-04-04         143.836          3.692               0.425       3.138   \n",
              "4  2018-04-05          95.905          4.000               0.723       3.186   \n",
              "\n",
              "   humidity  low_temp  high_temp  Precipitation_Probability  \\\n",
              "0    75.000    12.600     21.000                     30.000   \n",
              "1    69.833    12.812     19.000                     19.500   \n",
              "2    74.879    10.312     15.316                     19.113   \n",
              "3    71.849     8.312     12.368                     43.493   \n",
              "4    73.784     5.875     10.421                     63.378   \n",
              "\n",
              "   number_of_rentals  year month day  \n",
              "0              22994  2018    04  01  \n",
              "1              28139  2018    04  02  \n",
              "2              26817  2018    04  03  \n",
              "3              26034  2018    04  04  \n",
              "4               2833  2018    04  05  "
            ],
            "text/html": [
              "\n",
              "  <div id=\"df-3e4919ec-3954-4839-bd48-3133afd741d1\">\n",
              "    <div class=\"colab-df-container\">\n",
              "      <div>\n",
              "<style scoped>\n",
              "    .dataframe tbody tr th:only-of-type {\n",
              "        vertical-align: middle;\n",
              "    }\n",
              "\n",
              "    .dataframe tbody tr th {\n",
              "        vertical-align: top;\n",
              "    }\n",
              "\n",
              "    .dataframe thead th {\n",
              "        text-align: right;\n",
              "    }\n",
              "</style>\n",
              "<table border=\"1\" class=\"dataframe\">\n",
              "  <thead>\n",
              "    <tr style=\"text-align: right;\">\n",
              "      <th></th>\n",
              "      <th>date_time</th>\n",
              "      <th>wind_direction</th>\n",
              "      <th>sky_condition</th>\n",
              "      <th>precipitation_form</th>\n",
              "      <th>wind_speed</th>\n",
              "      <th>humidity</th>\n",
              "      <th>low_temp</th>\n",
              "      <th>high_temp</th>\n",
              "      <th>Precipitation_Probability</th>\n",
              "      <th>number_of_rentals</th>\n",
              "      <th>year</th>\n",
              "      <th>month</th>\n",
              "      <th>day</th>\n",
              "    </tr>\n",
              "  </thead>\n",
              "  <tbody>\n",
              "    <tr>\n",
              "      <th>0</th>\n",
              "      <td>2018-04-01</td>\n",
              "      <td>207.500</td>\n",
              "      <td>4.000</td>\n",
              "      <td>0.000</td>\n",
              "      <td>3.050</td>\n",
              "      <td>75.000</td>\n",
              "      <td>12.600</td>\n",
              "      <td>21.000</td>\n",
              "      <td>30.000</td>\n",
              "      <td>22994</td>\n",
              "      <td>2018</td>\n",
              "      <td>04</td>\n",
              "      <td>01</td>\n",
              "    </tr>\n",
              "    <tr>\n",
              "      <th>1</th>\n",
              "      <td>2018-04-02</td>\n",
              "      <td>208.317</td>\n",
              "      <td>2.950</td>\n",
              "      <td>0.000</td>\n",
              "      <td>3.278</td>\n",
              "      <td>69.833</td>\n",
              "      <td>12.812</td>\n",
              "      <td>19.000</td>\n",
              "      <td>19.500</td>\n",
              "      <td>28139</td>\n",
              "      <td>2018</td>\n",
              "      <td>04</td>\n",
              "      <td>02</td>\n",
              "    </tr>\n",
              "    <tr>\n",
              "      <th>2</th>\n",
              "      <td>2018-04-03</td>\n",
              "      <td>213.516</td>\n",
              "      <td>2.911</td>\n",
              "      <td>0.000</td>\n",
              "      <td>2.690</td>\n",
              "      <td>74.879</td>\n",
              "      <td>10.312</td>\n",
              "      <td>15.316</td>\n",
              "      <td>19.113</td>\n",
              "      <td>26817</td>\n",
              "      <td>2018</td>\n",
              "      <td>04</td>\n",
              "      <td>03</td>\n",
              "    </tr>\n",
              "    <tr>\n",
              "      <th>3</th>\n",
              "      <td>2018-04-04</td>\n",
              "      <td>143.836</td>\n",
              "      <td>3.692</td>\n",
              "      <td>0.425</td>\n",
              "      <td>3.138</td>\n",
              "      <td>71.849</td>\n",
              "      <td>8.312</td>\n",
              "      <td>12.368</td>\n",
              "      <td>43.493</td>\n",
              "      <td>26034</td>\n",
              "      <td>2018</td>\n",
              "      <td>04</td>\n",
              "      <td>04</td>\n",
              "    </tr>\n",
              "    <tr>\n",
              "      <th>4</th>\n",
              "      <td>2018-04-05</td>\n",
              "      <td>95.905</td>\n",
              "      <td>4.000</td>\n",
              "      <td>0.723</td>\n",
              "      <td>3.186</td>\n",
              "      <td>73.784</td>\n",
              "      <td>5.875</td>\n",
              "      <td>10.421</td>\n",
              "      <td>63.378</td>\n",
              "      <td>2833</td>\n",
              "      <td>2018</td>\n",
              "      <td>04</td>\n",
              "      <td>05</td>\n",
              "    </tr>\n",
              "  </tbody>\n",
              "</table>\n",
              "</div>\n",
              "      <button class=\"colab-df-convert\" onclick=\"convertToInteractive('df-3e4919ec-3954-4839-bd48-3133afd741d1')\"\n",
              "              title=\"Convert this dataframe to an interactive table.\"\n",
              "              style=\"display:none;\">\n",
              "        \n",
              "  <svg xmlns=\"http://www.w3.org/2000/svg\" height=\"24px\"viewBox=\"0 0 24 24\"\n",
              "       width=\"24px\">\n",
              "    <path d=\"M0 0h24v24H0V0z\" fill=\"none\"/>\n",
              "    <path d=\"M18.56 5.44l.94 2.06.94-2.06 2.06-.94-2.06-.94-.94-2.06-.94 2.06-2.06.94zm-11 1L8.5 8.5l.94-2.06 2.06-.94-2.06-.94L8.5 2.5l-.94 2.06-2.06.94zm10 10l.94 2.06.94-2.06 2.06-.94-2.06-.94-.94-2.06-.94 2.06-2.06.94z\"/><path d=\"M17.41 7.96l-1.37-1.37c-.4-.4-.92-.59-1.43-.59-.52 0-1.04.2-1.43.59L10.3 9.45l-7.72 7.72c-.78.78-.78 2.05 0 2.83L4 21.41c.39.39.9.59 1.41.59.51 0 1.02-.2 1.41-.59l7.78-7.78 2.81-2.81c.8-.78.8-2.07 0-2.86zM5.41 20L4 18.59l7.72-7.72 1.47 1.35L5.41 20z\"/>\n",
              "  </svg>\n",
              "      </button>\n",
              "      \n",
              "  <style>\n",
              "    .colab-df-container {\n",
              "      display:flex;\n",
              "      flex-wrap:wrap;\n",
              "      gap: 12px;\n",
              "    }\n",
              "\n",
              "    .colab-df-convert {\n",
              "      background-color: #E8F0FE;\n",
              "      border: none;\n",
              "      border-radius: 50%;\n",
              "      cursor: pointer;\n",
              "      display: none;\n",
              "      fill: #1967D2;\n",
              "      height: 32px;\n",
              "      padding: 0 0 0 0;\n",
              "      width: 32px;\n",
              "    }\n",
              "\n",
              "    .colab-df-convert:hover {\n",
              "      background-color: #E2EBFA;\n",
              "      box-shadow: 0px 1px 2px rgba(60, 64, 67, 0.3), 0px 1px 3px 1px rgba(60, 64, 67, 0.15);\n",
              "      fill: #174EA6;\n",
              "    }\n",
              "\n",
              "    [theme=dark] .colab-df-convert {\n",
              "      background-color: #3B4455;\n",
              "      fill: #D2E3FC;\n",
              "    }\n",
              "\n",
              "    [theme=dark] .colab-df-convert:hover {\n",
              "      background-color: #434B5C;\n",
              "      box-shadow: 0px 1px 3px 1px rgba(0, 0, 0, 0.15);\n",
              "      filter: drop-shadow(0px 1px 2px rgba(0, 0, 0, 0.3));\n",
              "      fill: #FFFFFF;\n",
              "    }\n",
              "  </style>\n",
              "\n",
              "      <script>\n",
              "        const buttonEl =\n",
              "          document.querySelector('#df-3e4919ec-3954-4839-bd48-3133afd741d1 button.colab-df-convert');\n",
              "        buttonEl.style.display =\n",
              "          google.colab.kernel.accessAllowed ? 'block' : 'none';\n",
              "\n",
              "        async function convertToInteractive(key) {\n",
              "          const element = document.querySelector('#df-3e4919ec-3954-4839-bd48-3133afd741d1');\n",
              "          const dataTable =\n",
              "            await google.colab.kernel.invokeFunction('convertToInteractive',\n",
              "                                                     [key], {});\n",
              "          if (!dataTable) return;\n",
              "\n",
              "          const docLinkHtml = 'Like what you see? Visit the ' +\n",
              "            '<a target=\"_blank\" href=https://colab.research.google.com/notebooks/data_table.ipynb>data table notebook</a>'\n",
              "            + ' to learn more about interactive tables.';\n",
              "          element.innerHTML = '';\n",
              "          dataTable['output_type'] = 'display_data';\n",
              "          await google.colab.output.renderOutput(dataTable, element);\n",
              "          const docLink = document.createElement('div');\n",
              "          docLink.innerHTML = docLinkHtml;\n",
              "          element.appendChild(docLink);\n",
              "        }\n",
              "      </script>\n",
              "    </div>\n",
              "  </div>\n",
              "  "
            ]
          },
          "metadata": {},
          "execution_count": 52
        }
      ]
    },
    {
      "cell_type": "code",
      "source": [
        "train.info()"
      ],
      "metadata": {
        "colab": {
          "base_uri": "https://localhost:8080/"
        },
        "id": "4D6fN9w0G4le",
        "outputId": "f51b1c55-a42e-4519-b863-9cd91caf8fce"
      },
      "execution_count": null,
      "outputs": [
        {
          "output_type": "stream",
          "name": "stdout",
          "text": [
            "<class 'pandas.core.frame.DataFrame'>\n",
            "RangeIndex: 273 entries, 0 to 272\n",
            "Data columns (total 13 columns):\n",
            " #   Column                     Non-Null Count  Dtype  \n",
            "---  ------                     --------------  -----  \n",
            " 0   date_time                  273 non-null    object \n",
            " 1   wind_direction             273 non-null    float64\n",
            " 2   sky_condition              273 non-null    float64\n",
            " 3   precipitation_form         273 non-null    float64\n",
            " 4   wind_speed                 273 non-null    float64\n",
            " 5   humidity                   273 non-null    float64\n",
            " 6   low_temp                   273 non-null    float64\n",
            " 7   high_temp                  273 non-null    float64\n",
            " 8   Precipitation_Probability  273 non-null    float64\n",
            " 9   number_of_rentals          273 non-null    int64  \n",
            " 10  year                       273 non-null    object \n",
            " 11  month                      273 non-null    object \n",
            " 12  day                        273 non-null    object \n",
            "dtypes: float64(8), int64(1), object(4)\n",
            "memory usage: 27.9+ KB\n"
          ]
        }
      ]
    },
    {
      "cell_type": "markdown",
      "source": [
        "##**Add Week day Data**\n",
        "날짜 정보가 포함되어있는 date_time 이라는 컬럼을 이용해서 요일 정보를 추가해보자!"
      ],
      "metadata": {
        "id": "kcQ9dno_IqD0"
      }
    },
    {
      "cell_type": "code",
      "source": [
        "week_day = pd.to_datetime(train['date_time']).dt.day_name()\n",
        "week_day"
      ],
      "metadata": {
        "colab": {
          "base_uri": "https://localhost:8080/"
        },
        "id": "zT9BrJJBG_kP",
        "outputId": "3dc16ba1-3b06-4cfd-f302-ee7a87c5d628"
      },
      "execution_count": null,
      "outputs": [
        {
          "output_type": "execute_result",
          "data": {
            "text/plain": [
              "0         Sunday\n",
              "1         Monday\n",
              "2        Tuesday\n",
              "3      Wednesday\n",
              "4       Thursday\n",
              "         ...    \n",
              "268       Friday\n",
              "269     Saturday\n",
              "270       Sunday\n",
              "271       Monday\n",
              "272      Tuesday\n",
              "Name: date_time, Length: 273, dtype: object"
            ]
          },
          "metadata": {},
          "execution_count": 54
        }
      ]
    },
    {
      "cell_type": "markdown",
      "source": [
        "위에서 생성한 week_day 를 train 컬럼에 넣어주자"
      ],
      "metadata": {
        "id": "L6dc9oX8H92R"
      }
    },
    {
      "cell_type": "code",
      "source": [
        "train['week_day'] = week_day\n",
        "\n",
        "train.head()"
      ],
      "metadata": {
        "colab": {
          "base_uri": "https://localhost:8080/",
          "height": 357
        },
        "id": "Gaz2HO4lH57v",
        "outputId": "a022afc6-9f0d-4951-a3c2-1c4919c6803e"
      },
      "execution_count": null,
      "outputs": [
        {
          "output_type": "execute_result",
          "data": {
            "text/plain": [
              "    date_time  wind_direction  sky_condition  precipitation_form  wind_speed  \\\n",
              "0  2018-04-01         207.500          4.000               0.000       3.050   \n",
              "1  2018-04-02         208.317          2.950               0.000       3.278   \n",
              "2  2018-04-03         213.516          2.911               0.000       2.690   \n",
              "3  2018-04-04         143.836          3.692               0.425       3.138   \n",
              "4  2018-04-05          95.905          4.000               0.723       3.186   \n",
              "\n",
              "   humidity  low_temp  high_temp  Precipitation_Probability  \\\n",
              "0    75.000    12.600     21.000                     30.000   \n",
              "1    69.833    12.812     19.000                     19.500   \n",
              "2    74.879    10.312     15.316                     19.113   \n",
              "3    71.849     8.312     12.368                     43.493   \n",
              "4    73.784     5.875     10.421                     63.378   \n",
              "\n",
              "   number_of_rentals  year month day   week_day  \n",
              "0              22994  2018    04  01     Sunday  \n",
              "1              28139  2018    04  02     Monday  \n",
              "2              26817  2018    04  03    Tuesday  \n",
              "3              26034  2018    04  04  Wednesday  \n",
              "4               2833  2018    04  05   Thursday  "
            ],
            "text/html": [
              "\n",
              "  <div id=\"df-49fd2e12-cd24-4991-ade7-77a52189e193\">\n",
              "    <div class=\"colab-df-container\">\n",
              "      <div>\n",
              "<style scoped>\n",
              "    .dataframe tbody tr th:only-of-type {\n",
              "        vertical-align: middle;\n",
              "    }\n",
              "\n",
              "    .dataframe tbody tr th {\n",
              "        vertical-align: top;\n",
              "    }\n",
              "\n",
              "    .dataframe thead th {\n",
              "        text-align: right;\n",
              "    }\n",
              "</style>\n",
              "<table border=\"1\" class=\"dataframe\">\n",
              "  <thead>\n",
              "    <tr style=\"text-align: right;\">\n",
              "      <th></th>\n",
              "      <th>date_time</th>\n",
              "      <th>wind_direction</th>\n",
              "      <th>sky_condition</th>\n",
              "      <th>precipitation_form</th>\n",
              "      <th>wind_speed</th>\n",
              "      <th>humidity</th>\n",
              "      <th>low_temp</th>\n",
              "      <th>high_temp</th>\n",
              "      <th>Precipitation_Probability</th>\n",
              "      <th>number_of_rentals</th>\n",
              "      <th>year</th>\n",
              "      <th>month</th>\n",
              "      <th>day</th>\n",
              "      <th>week_day</th>\n",
              "    </tr>\n",
              "  </thead>\n",
              "  <tbody>\n",
              "    <tr>\n",
              "      <th>0</th>\n",
              "      <td>2018-04-01</td>\n",
              "      <td>207.500</td>\n",
              "      <td>4.000</td>\n",
              "      <td>0.000</td>\n",
              "      <td>3.050</td>\n",
              "      <td>75.000</td>\n",
              "      <td>12.600</td>\n",
              "      <td>21.000</td>\n",
              "      <td>30.000</td>\n",
              "      <td>22994</td>\n",
              "      <td>2018</td>\n",
              "      <td>04</td>\n",
              "      <td>01</td>\n",
              "      <td>Sunday</td>\n",
              "    </tr>\n",
              "    <tr>\n",
              "      <th>1</th>\n",
              "      <td>2018-04-02</td>\n",
              "      <td>208.317</td>\n",
              "      <td>2.950</td>\n",
              "      <td>0.000</td>\n",
              "      <td>3.278</td>\n",
              "      <td>69.833</td>\n",
              "      <td>12.812</td>\n",
              "      <td>19.000</td>\n",
              "      <td>19.500</td>\n",
              "      <td>28139</td>\n",
              "      <td>2018</td>\n",
              "      <td>04</td>\n",
              "      <td>02</td>\n",
              "      <td>Monday</td>\n",
              "    </tr>\n",
              "    <tr>\n",
              "      <th>2</th>\n",
              "      <td>2018-04-03</td>\n",
              "      <td>213.516</td>\n",
              "      <td>2.911</td>\n",
              "      <td>0.000</td>\n",
              "      <td>2.690</td>\n",
              "      <td>74.879</td>\n",
              "      <td>10.312</td>\n",
              "      <td>15.316</td>\n",
              "      <td>19.113</td>\n",
              "      <td>26817</td>\n",
              "      <td>2018</td>\n",
              "      <td>04</td>\n",
              "      <td>03</td>\n",
              "      <td>Tuesday</td>\n",
              "    </tr>\n",
              "    <tr>\n",
              "      <th>3</th>\n",
              "      <td>2018-04-04</td>\n",
              "      <td>143.836</td>\n",
              "      <td>3.692</td>\n",
              "      <td>0.425</td>\n",
              "      <td>3.138</td>\n",
              "      <td>71.849</td>\n",
              "      <td>8.312</td>\n",
              "      <td>12.368</td>\n",
              "      <td>43.493</td>\n",
              "      <td>26034</td>\n",
              "      <td>2018</td>\n",
              "      <td>04</td>\n",
              "      <td>04</td>\n",
              "      <td>Wednesday</td>\n",
              "    </tr>\n",
              "    <tr>\n",
              "      <th>4</th>\n",
              "      <td>2018-04-05</td>\n",
              "      <td>95.905</td>\n",
              "      <td>4.000</td>\n",
              "      <td>0.723</td>\n",
              "      <td>3.186</td>\n",
              "      <td>73.784</td>\n",
              "      <td>5.875</td>\n",
              "      <td>10.421</td>\n",
              "      <td>63.378</td>\n",
              "      <td>2833</td>\n",
              "      <td>2018</td>\n",
              "      <td>04</td>\n",
              "      <td>05</td>\n",
              "      <td>Thursday</td>\n",
              "    </tr>\n",
              "  </tbody>\n",
              "</table>\n",
              "</div>\n",
              "      <button class=\"colab-df-convert\" onclick=\"convertToInteractive('df-49fd2e12-cd24-4991-ade7-77a52189e193')\"\n",
              "              title=\"Convert this dataframe to an interactive table.\"\n",
              "              style=\"display:none;\">\n",
              "        \n",
              "  <svg xmlns=\"http://www.w3.org/2000/svg\" height=\"24px\"viewBox=\"0 0 24 24\"\n",
              "       width=\"24px\">\n",
              "    <path d=\"M0 0h24v24H0V0z\" fill=\"none\"/>\n",
              "    <path d=\"M18.56 5.44l.94 2.06.94-2.06 2.06-.94-2.06-.94-.94-2.06-.94 2.06-2.06.94zm-11 1L8.5 8.5l.94-2.06 2.06-.94-2.06-.94L8.5 2.5l-.94 2.06-2.06.94zm10 10l.94 2.06.94-2.06 2.06-.94-2.06-.94-.94-2.06-.94 2.06-2.06.94z\"/><path d=\"M17.41 7.96l-1.37-1.37c-.4-.4-.92-.59-1.43-.59-.52 0-1.04.2-1.43.59L10.3 9.45l-7.72 7.72c-.78.78-.78 2.05 0 2.83L4 21.41c.39.39.9.59 1.41.59.51 0 1.02-.2 1.41-.59l7.78-7.78 2.81-2.81c.8-.78.8-2.07 0-2.86zM5.41 20L4 18.59l7.72-7.72 1.47 1.35L5.41 20z\"/>\n",
              "  </svg>\n",
              "      </button>\n",
              "      \n",
              "  <style>\n",
              "    .colab-df-container {\n",
              "      display:flex;\n",
              "      flex-wrap:wrap;\n",
              "      gap: 12px;\n",
              "    }\n",
              "\n",
              "    .colab-df-convert {\n",
              "      background-color: #E8F0FE;\n",
              "      border: none;\n",
              "      border-radius: 50%;\n",
              "      cursor: pointer;\n",
              "      display: none;\n",
              "      fill: #1967D2;\n",
              "      height: 32px;\n",
              "      padding: 0 0 0 0;\n",
              "      width: 32px;\n",
              "    }\n",
              "\n",
              "    .colab-df-convert:hover {\n",
              "      background-color: #E2EBFA;\n",
              "      box-shadow: 0px 1px 2px rgba(60, 64, 67, 0.3), 0px 1px 3px 1px rgba(60, 64, 67, 0.15);\n",
              "      fill: #174EA6;\n",
              "    }\n",
              "\n",
              "    [theme=dark] .colab-df-convert {\n",
              "      background-color: #3B4455;\n",
              "      fill: #D2E3FC;\n",
              "    }\n",
              "\n",
              "    [theme=dark] .colab-df-convert:hover {\n",
              "      background-color: #434B5C;\n",
              "      box-shadow: 0px 1px 3px 1px rgba(0, 0, 0, 0.15);\n",
              "      filter: drop-shadow(0px 1px 2px rgba(0, 0, 0, 0.3));\n",
              "      fill: #FFFFFF;\n",
              "    }\n",
              "  </style>\n",
              "\n",
              "      <script>\n",
              "        const buttonEl =\n",
              "          document.querySelector('#df-49fd2e12-cd24-4991-ade7-77a52189e193 button.colab-df-convert');\n",
              "        buttonEl.style.display =\n",
              "          google.colab.kernel.accessAllowed ? 'block' : 'none';\n",
              "\n",
              "        async function convertToInteractive(key) {\n",
              "          const element = document.querySelector('#df-49fd2e12-cd24-4991-ade7-77a52189e193');\n",
              "          const dataTable =\n",
              "            await google.colab.kernel.invokeFunction('convertToInteractive',\n",
              "                                                     [key], {});\n",
              "          if (!dataTable) return;\n",
              "\n",
              "          const docLinkHtml = 'Like what you see? Visit the ' +\n",
              "            '<a target=\"_blank\" href=https://colab.research.google.com/notebooks/data_table.ipynb>data table notebook</a>'\n",
              "            + ' to learn more about interactive tables.';\n",
              "          element.innerHTML = '';\n",
              "          dataTable['output_type'] = 'display_data';\n",
              "          await google.colab.output.renderOutput(dataTable, element);\n",
              "          const docLink = document.createElement('div');\n",
              "          docLink.innerHTML = docLinkHtml;\n",
              "          element.appendChild(docLink);\n",
              "        }\n",
              "      </script>\n",
              "    </div>\n",
              "  </div>\n",
              "  "
            ]
          },
          "metadata": {},
          "execution_count": 55
        }
      ]
    },
    {
      "cell_type": "markdown",
      "source": [
        "지금까지 생성한 year, month, day, week_day 컬럼이 모두 새로 추가된 것을 확인!"
      ],
      "metadata": {
        "id": "GBabwjwFIGAZ"
      }
    },
    {
      "cell_type": "markdown",
      "source": [
        "##**Change Value type**\n",
        "**새로 생성된 컬럼의 타입이 object형이므로 정수(int)로 변경 해주어야 한다.**\n",
        "\n",
        "왜냐하면 \n",
        "\n",
        "- 대부분의 머신 러닝 알고리즘은 숫자형 데이터를 입력으로 받아들인다. 따라서 object 타입의 변수를 숫자형으로 변환해주어야 해당 변수를 머신 러닝 알고리즘에 적용할 수 있다.\n",
        "\n",
        "- object 타입의 변수는 문자열로 이루어져 있으며, 이는 데이터 분석 과정에서 처리하기 어렵다. 예를 들어, 날짜 데이터가 object 타입으로 저장되어 있으면 날짜 간의 차이나 순서를 계산하는 등의 작업이 어렵다. 따라서 object 타입의 변수를 int 타입으로 변환하여 데이터 분석 과정을 수월하게 만드는 것이 좋다.\n",
        "\n",
        "- int 타입으로 변환할 경우 메모리 사용량이 줄어들어 더욱 효율적인 데이터 처리가 가능하며, 연산 속도도 빨라지는 장점이 있다. 따라서 대부분의 경우 object 타입의 변수를 int 타입으로 변환해주는 것이 데이터 전처리 과정에서 중요한 단계 중 하나이다."
      ],
      "metadata": {
        "id": "gf3QzT7IIRw6"
      }
    },
    {
      "cell_type": "code",
      "source": [
        "#train['year'] = train['year'].apply(lambda x : int(x))\n",
        "\n",
        "train['year'] = train['year'].astype('int')"
      ],
      "metadata": {
        "id": "22-6ihaCH7t0"
      },
      "execution_count": null,
      "outputs": []
    },
    {
      "cell_type": "code",
      "source": [
        "train['year'].info()"
      ],
      "metadata": {
        "colab": {
          "base_uri": "https://localhost:8080/"
        },
        "id": "G__XgTrIkvEu",
        "outputId": "2042d1b1-1108-4a63-90e6-6b9ae46494d7"
      },
      "execution_count": null,
      "outputs": [
        {
          "output_type": "stream",
          "name": "stdout",
          "text": [
            "<class 'pandas.core.series.Series'>\n",
            "RangeIndex: 273 entries, 0 to 272\n",
            "Series name: year\n",
            "Non-Null Count  Dtype\n",
            "--------------  -----\n",
            "273 non-null    int64\n",
            "dtypes: int64(1)\n",
            "memory usage: 2.3 KB\n"
          ]
        }
      ]
    },
    {
      "cell_type": "code",
      "source": [
        "train['month'] = train['month'].astype('int')\n",
        "train['day'] = train['day'].astype('int')"
      ],
      "metadata": {
        "id": "r79VniUNKAVv"
      },
      "execution_count": null,
      "outputs": []
    },
    {
      "cell_type": "code",
      "source": [
        "train[['year','month','day']].info()"
      ],
      "metadata": {
        "colab": {
          "base_uri": "https://localhost:8080/"
        },
        "id": "2YnakfZ-k51I",
        "outputId": "fb580bae-e83a-4934-fa04-d2e5c638f600"
      },
      "execution_count": null,
      "outputs": [
        {
          "output_type": "stream",
          "name": "stdout",
          "text": [
            "<class 'pandas.core.frame.DataFrame'>\n",
            "RangeIndex: 273 entries, 0 to 272\n",
            "Data columns (total 3 columns):\n",
            " #   Column  Non-Null Count  Dtype\n",
            "---  ------  --------------  -----\n",
            " 0   year    273 non-null    int64\n",
            " 1   month   273 non-null    int64\n",
            " 2   day     273 non-null    int64\n",
            "dtypes: int64(3)\n",
            "memory usage: 6.5 KB\n"
          ]
        }
      ]
    },
    {
      "cell_type": "markdown",
      "source": [
        "위에서 생성한 week_day 를 train 컬럼에 넣어주겠습니다."
      ],
      "metadata": {
        "id": "ee3Ba7KVJmLo"
      }
    },
    {
      "cell_type": "code",
      "source": [
        "train.week_day.unique()"
      ],
      "metadata": {
        "colab": {
          "base_uri": "https://localhost:8080/"
        },
        "id": "b5jUZzSbJjsX",
        "outputId": "1a594134-b535-4015-db14-06a43c5db1cf"
      },
      "execution_count": null,
      "outputs": [
        {
          "output_type": "execute_result",
          "data": {
            "text/plain": [
              "array(['Sunday', 'Monday', 'Tuesday', 'Wednesday', 'Thursday', 'Friday',\n",
              "       'Saturday'], dtype=object)"
            ]
          },
          "metadata": {},
          "execution_count": 61
        }
      ]
    },
    {
      "cell_type": "code",
      "source": [
        "train['week_day'].info()"
      ],
      "metadata": {
        "colab": {
          "base_uri": "https://localhost:8080/"
        },
        "id": "DywfoB0Xlngy",
        "outputId": "1c3aa848-2221-4094-93c0-26871d0f584d"
      },
      "execution_count": null,
      "outputs": [
        {
          "output_type": "stream",
          "name": "stdout",
          "text": [
            "<class 'pandas.core.series.Series'>\n",
            "RangeIndex: 273 entries, 0 to 272\n",
            "Series name: week_day\n",
            "Non-Null Count  Dtype \n",
            "--------------  ----- \n",
            "273 non-null    object\n",
            "dtypes: object(1)\n",
            "memory usage: 2.3+ KB\n"
          ]
        }
      ]
    },
    {
      "cell_type": "markdown",
      "source": [
        "영어로 요일이 적혀있는것을 확인할수있습니다\n",
        "\n",
        "요일도 마찬가지로 object형이므로 정수(int)형태로 변경 해주겠습니다.\n",
        "  - 일 -> 0\n",
        "  - 월 -> 1\n",
        "  - 화 -> 2\n",
        "  - 수 -> 3\n",
        "  - 목 -> 4\n",
        "  - 금 -> 5\n",
        "  - 토 -> 6"
      ],
      "metadata": {
        "id": "CvOB4mfaJ1vc"
      }
    },
    {
      "cell_type": "code",
      "source": [
        "train.loc[train['week_day'] == 'Sunday', 'week_day'] = 0\n",
        "train.loc[train['week_day'] == 'Monday', 'week_day'] = 1\n",
        "train.loc[train['week_day'] == 'Tuesday', 'week_day'] = 2\n",
        "train.loc[train['week_day'] == 'Wednesday', 'week_day'] = 3\n",
        "train.loc[train['week_day'] == 'Thursday', 'week_day'] = 4\n",
        "train.loc[train['week_day'] == 'Friday', 'week_day'] = 5\n",
        "train.loc[train['week_day'] == 'Saturday', 'week_day'] = 6"
      ],
      "metadata": {
        "id": "g49jAyIVJoXK"
      },
      "execution_count": null,
      "outputs": []
    },
    {
      "cell_type": "code",
      "source": [
        "train['week_day'].info()"
      ],
      "metadata": {
        "colab": {
          "base_uri": "https://localhost:8080/"
        },
        "id": "yKRkS6sJmP8y",
        "outputId": "7f8117ca-c157-489f-b68d-80fcbcf0863d"
      },
      "execution_count": null,
      "outputs": [
        {
          "output_type": "stream",
          "name": "stdout",
          "text": [
            "<class 'pandas.core.series.Series'>\n",
            "RangeIndex: 273 entries, 0 to 272\n",
            "Series name: week_day\n",
            "Non-Null Count  Dtype\n",
            "--------------  -----\n",
            "273 non-null    int64\n",
            "dtypes: int64(1)\n",
            "memory usage: 2.3 KB\n"
          ]
        }
      ]
    },
    {
      "cell_type": "code",
      "source": [
        "train['week_day'] = train['week_day'].astype('int')"
      ],
      "metadata": {
        "id": "7xkzj8VtKc1Z"
      },
      "execution_count": null,
      "outputs": []
    },
    {
      "cell_type": "markdown",
      "source": [
        "요일들이 숫자로 잘 변경된 것 같습니다.\n",
        "\n",
        "unique() 함수를 사용해 요일의 고유값을 확인하여 전처리가 잘 되었는지 점검해볼까요?"
      ],
      "metadata": {
        "id": "Ub7fGzxhKg85"
      }
    },
    {
      "cell_type": "code",
      "source": [
        "train['week_day'].unique()"
      ],
      "metadata": {
        "colab": {
          "base_uri": "https://localhost:8080/"
        },
        "id": "Kb9K4rFbKe5J",
        "outputId": "24bab6d2-fcb3-4d56-e5ec-a006b21cfdbc"
      },
      "execution_count": null,
      "outputs": [
        {
          "output_type": "execute_result",
          "data": {
            "text/plain": [
              "array([0, 1, 2, 3, 4, 5, 6])"
            ]
          },
          "metadata": {},
          "execution_count": 66
        }
      ]
    },
    {
      "cell_type": "code",
      "source": [
        "train.head()"
      ],
      "metadata": {
        "colab": {
          "base_uri": "https://localhost:8080/",
          "height": 357
        },
        "id": "SzKkGhaLP-Eg",
        "outputId": "f42a2c8b-e6ae-4292-d616-499279f91ba7"
      },
      "execution_count": null,
      "outputs": [
        {
          "output_type": "execute_result",
          "data": {
            "text/plain": [
              "    date_time  wind_direction  sky_condition  precipitation_form  wind_speed  \\\n",
              "0  2018-04-01         207.500          4.000               0.000       3.050   \n",
              "1  2018-04-02         208.317          2.950               0.000       3.278   \n",
              "2  2018-04-03         213.516          2.911               0.000       2.690   \n",
              "3  2018-04-04         143.836          3.692               0.425       3.138   \n",
              "4  2018-04-05          95.905          4.000               0.723       3.186   \n",
              "\n",
              "   humidity  low_temp  high_temp  Precipitation_Probability  \\\n",
              "0    75.000    12.600     21.000                     30.000   \n",
              "1    69.833    12.812     19.000                     19.500   \n",
              "2    74.879    10.312     15.316                     19.113   \n",
              "3    71.849     8.312     12.368                     43.493   \n",
              "4    73.784     5.875     10.421                     63.378   \n",
              "\n",
              "   number_of_rentals  year  month  day  week_day  \n",
              "0              22994  2018      4    1         0  \n",
              "1              28139  2018      4    2         1  \n",
              "2              26817  2018      4    3         2  \n",
              "3              26034  2018      4    4         3  \n",
              "4               2833  2018      4    5         4  "
            ],
            "text/html": [
              "\n",
              "  <div id=\"df-185e79ae-8245-45af-bad4-61cea8e6fe52\">\n",
              "    <div class=\"colab-df-container\">\n",
              "      <div>\n",
              "<style scoped>\n",
              "    .dataframe tbody tr th:only-of-type {\n",
              "        vertical-align: middle;\n",
              "    }\n",
              "\n",
              "    .dataframe tbody tr th {\n",
              "        vertical-align: top;\n",
              "    }\n",
              "\n",
              "    .dataframe thead th {\n",
              "        text-align: right;\n",
              "    }\n",
              "</style>\n",
              "<table border=\"1\" class=\"dataframe\">\n",
              "  <thead>\n",
              "    <tr style=\"text-align: right;\">\n",
              "      <th></th>\n",
              "      <th>date_time</th>\n",
              "      <th>wind_direction</th>\n",
              "      <th>sky_condition</th>\n",
              "      <th>precipitation_form</th>\n",
              "      <th>wind_speed</th>\n",
              "      <th>humidity</th>\n",
              "      <th>low_temp</th>\n",
              "      <th>high_temp</th>\n",
              "      <th>Precipitation_Probability</th>\n",
              "      <th>number_of_rentals</th>\n",
              "      <th>year</th>\n",
              "      <th>month</th>\n",
              "      <th>day</th>\n",
              "      <th>week_day</th>\n",
              "    </tr>\n",
              "  </thead>\n",
              "  <tbody>\n",
              "    <tr>\n",
              "      <th>0</th>\n",
              "      <td>2018-04-01</td>\n",
              "      <td>207.500</td>\n",
              "      <td>4.000</td>\n",
              "      <td>0.000</td>\n",
              "      <td>3.050</td>\n",
              "      <td>75.000</td>\n",
              "      <td>12.600</td>\n",
              "      <td>21.000</td>\n",
              "      <td>30.000</td>\n",
              "      <td>22994</td>\n",
              "      <td>2018</td>\n",
              "      <td>4</td>\n",
              "      <td>1</td>\n",
              "      <td>0</td>\n",
              "    </tr>\n",
              "    <tr>\n",
              "      <th>1</th>\n",
              "      <td>2018-04-02</td>\n",
              "      <td>208.317</td>\n",
              "      <td>2.950</td>\n",
              "      <td>0.000</td>\n",
              "      <td>3.278</td>\n",
              "      <td>69.833</td>\n",
              "      <td>12.812</td>\n",
              "      <td>19.000</td>\n",
              "      <td>19.500</td>\n",
              "      <td>28139</td>\n",
              "      <td>2018</td>\n",
              "      <td>4</td>\n",
              "      <td>2</td>\n",
              "      <td>1</td>\n",
              "    </tr>\n",
              "    <tr>\n",
              "      <th>2</th>\n",
              "      <td>2018-04-03</td>\n",
              "      <td>213.516</td>\n",
              "      <td>2.911</td>\n",
              "      <td>0.000</td>\n",
              "      <td>2.690</td>\n",
              "      <td>74.879</td>\n",
              "      <td>10.312</td>\n",
              "      <td>15.316</td>\n",
              "      <td>19.113</td>\n",
              "      <td>26817</td>\n",
              "      <td>2018</td>\n",
              "      <td>4</td>\n",
              "      <td>3</td>\n",
              "      <td>2</td>\n",
              "    </tr>\n",
              "    <tr>\n",
              "      <th>3</th>\n",
              "      <td>2018-04-04</td>\n",
              "      <td>143.836</td>\n",
              "      <td>3.692</td>\n",
              "      <td>0.425</td>\n",
              "      <td>3.138</td>\n",
              "      <td>71.849</td>\n",
              "      <td>8.312</td>\n",
              "      <td>12.368</td>\n",
              "      <td>43.493</td>\n",
              "      <td>26034</td>\n",
              "      <td>2018</td>\n",
              "      <td>4</td>\n",
              "      <td>4</td>\n",
              "      <td>3</td>\n",
              "    </tr>\n",
              "    <tr>\n",
              "      <th>4</th>\n",
              "      <td>2018-04-05</td>\n",
              "      <td>95.905</td>\n",
              "      <td>4.000</td>\n",
              "      <td>0.723</td>\n",
              "      <td>3.186</td>\n",
              "      <td>73.784</td>\n",
              "      <td>5.875</td>\n",
              "      <td>10.421</td>\n",
              "      <td>63.378</td>\n",
              "      <td>2833</td>\n",
              "      <td>2018</td>\n",
              "      <td>4</td>\n",
              "      <td>5</td>\n",
              "      <td>4</td>\n",
              "    </tr>\n",
              "  </tbody>\n",
              "</table>\n",
              "</div>\n",
              "      <button class=\"colab-df-convert\" onclick=\"convertToInteractive('df-185e79ae-8245-45af-bad4-61cea8e6fe52')\"\n",
              "              title=\"Convert this dataframe to an interactive table.\"\n",
              "              style=\"display:none;\">\n",
              "        \n",
              "  <svg xmlns=\"http://www.w3.org/2000/svg\" height=\"24px\"viewBox=\"0 0 24 24\"\n",
              "       width=\"24px\">\n",
              "    <path d=\"M0 0h24v24H0V0z\" fill=\"none\"/>\n",
              "    <path d=\"M18.56 5.44l.94 2.06.94-2.06 2.06-.94-2.06-.94-.94-2.06-.94 2.06-2.06.94zm-11 1L8.5 8.5l.94-2.06 2.06-.94-2.06-.94L8.5 2.5l-.94 2.06-2.06.94zm10 10l.94 2.06.94-2.06 2.06-.94-2.06-.94-.94-2.06-.94 2.06-2.06.94z\"/><path d=\"M17.41 7.96l-1.37-1.37c-.4-.4-.92-.59-1.43-.59-.52 0-1.04.2-1.43.59L10.3 9.45l-7.72 7.72c-.78.78-.78 2.05 0 2.83L4 21.41c.39.39.9.59 1.41.59.51 0 1.02-.2 1.41-.59l7.78-7.78 2.81-2.81c.8-.78.8-2.07 0-2.86zM5.41 20L4 18.59l7.72-7.72 1.47 1.35L5.41 20z\"/>\n",
              "  </svg>\n",
              "      </button>\n",
              "      \n",
              "  <style>\n",
              "    .colab-df-container {\n",
              "      display:flex;\n",
              "      flex-wrap:wrap;\n",
              "      gap: 12px;\n",
              "    }\n",
              "\n",
              "    .colab-df-convert {\n",
              "      background-color: #E8F0FE;\n",
              "      border: none;\n",
              "      border-radius: 50%;\n",
              "      cursor: pointer;\n",
              "      display: none;\n",
              "      fill: #1967D2;\n",
              "      height: 32px;\n",
              "      padding: 0 0 0 0;\n",
              "      width: 32px;\n",
              "    }\n",
              "\n",
              "    .colab-df-convert:hover {\n",
              "      background-color: #E2EBFA;\n",
              "      box-shadow: 0px 1px 2px rgba(60, 64, 67, 0.3), 0px 1px 3px 1px rgba(60, 64, 67, 0.15);\n",
              "      fill: #174EA6;\n",
              "    }\n",
              "\n",
              "    [theme=dark] .colab-df-convert {\n",
              "      background-color: #3B4455;\n",
              "      fill: #D2E3FC;\n",
              "    }\n",
              "\n",
              "    [theme=dark] .colab-df-convert:hover {\n",
              "      background-color: #434B5C;\n",
              "      box-shadow: 0px 1px 3px 1px rgba(0, 0, 0, 0.15);\n",
              "      filter: drop-shadow(0px 1px 2px rgba(0, 0, 0, 0.3));\n",
              "      fill: #FFFFFF;\n",
              "    }\n",
              "  </style>\n",
              "\n",
              "      <script>\n",
              "        const buttonEl =\n",
              "          document.querySelector('#df-185e79ae-8245-45af-bad4-61cea8e6fe52 button.colab-df-convert');\n",
              "        buttonEl.style.display =\n",
              "          google.colab.kernel.accessAllowed ? 'block' : 'none';\n",
              "\n",
              "        async function convertToInteractive(key) {\n",
              "          const element = document.querySelector('#df-185e79ae-8245-45af-bad4-61cea8e6fe52');\n",
              "          const dataTable =\n",
              "            await google.colab.kernel.invokeFunction('convertToInteractive',\n",
              "                                                     [key], {});\n",
              "          if (!dataTable) return;\n",
              "\n",
              "          const docLinkHtml = 'Like what you see? Visit the ' +\n",
              "            '<a target=\"_blank\" href=https://colab.research.google.com/notebooks/data_table.ipynb>data table notebook</a>'\n",
              "            + ' to learn more about interactive tables.';\n",
              "          element.innerHTML = '';\n",
              "          dataTable['output_type'] = 'display_data';\n",
              "          await google.colab.output.renderOutput(dataTable, element);\n",
              "          const docLink = document.createElement('div');\n",
              "          docLink.innerHTML = docLinkHtml;\n",
              "          element.appendChild(docLink);\n",
              "        }\n",
              "      </script>\n",
              "    </div>\n",
              "  </div>\n",
              "  "
            ]
          },
          "metadata": {},
          "execution_count": 67
        }
      ]
    },
    {
      "cell_type": "code",
      "source": [
        "train.info()"
      ],
      "metadata": {
        "colab": {
          "base_uri": "https://localhost:8080/"
        },
        "id": "uwdbqcbfmsIJ",
        "outputId": "317d4e8a-707c-46e5-86f5-0ffd70c92b54"
      },
      "execution_count": null,
      "outputs": [
        {
          "output_type": "stream",
          "name": "stdout",
          "text": [
            "<class 'pandas.core.frame.DataFrame'>\n",
            "RangeIndex: 273 entries, 0 to 272\n",
            "Data columns (total 14 columns):\n",
            " #   Column                     Non-Null Count  Dtype  \n",
            "---  ------                     --------------  -----  \n",
            " 0   date_time                  273 non-null    object \n",
            " 1   wind_direction             273 non-null    float64\n",
            " 2   sky_condition              273 non-null    float64\n",
            " 3   precipitation_form         273 non-null    float64\n",
            " 4   wind_speed                 273 non-null    float64\n",
            " 5   humidity                   273 non-null    float64\n",
            " 6   low_temp                   273 non-null    float64\n",
            " 7   high_temp                  273 non-null    float64\n",
            " 8   Precipitation_Probability  273 non-null    float64\n",
            " 9   number_of_rentals          273 non-null    int64  \n",
            " 10  year                       273 non-null    int64  \n",
            " 11  month                      273 non-null    int64  \n",
            " 12  day                        273 non-null    int64  \n",
            " 13  week_day                   273 non-null    int64  \n",
            "dtypes: float64(8), int64(5), object(1)\n",
            "memory usage: 30.0+ KB\n"
          ]
        }
      ]
    },
    {
      "cell_type": "markdown",
      "source": [
        "기존 평일에 대한 요일 정보에서 0,1,2,3,4,5,6 로 전처리가 잘 진행되었음을 확인했습니다."
      ],
      "metadata": {
        "id": "tWWRHpl0KlsQ"
      }
    }
  ]
}